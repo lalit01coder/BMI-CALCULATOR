{
 "cells": [
  {
   "cell_type": "code",
   "execution_count": null,
   "id": "8ed142ad-7e49-40f6-9fdc-a87900130b49",
   "metadata": {},
   "outputs": [],
   "source": [
    "name = input(\"Enter your name: \")\n",
    "\n",
    "weight = int(input(\"Enter your weight in pound: \"))\n",
    "\n",
    "height = int(input(\"Enter your height in inch: \"))\n",
    "\n",
    "BMI = (weight * 703) / (height * height)\n",
    "\n",
    "print(BMI)\n",
    "\n",
    "if BMI>0:\n",
    "    if (BMI<18.5):\n",
    "        print(name +\", you are underweight,\")\n",
    "    elif (BMI<=24.9):\n",
    "        print(name +\", you are normal Weight,keep Smiling,\")\n",
    "    elif (BMI<29.9):\n",
    "        print(name+\", you are overweight,you need to exercise more and stop sitting and writting so many python tutorials,\")\n",
    "    elif(BMI<34.9):\n",
    "        print(name+\", you are obese,\")\n",
    "    elif(BMI<39.9):\n",
    "        print(name+\", you are severly obese,\")\n",
    "    else:\n",
    "        print(name+\", you are morbidly obese,\")\n",
    "else:\n",
    "    print(\"Enter valid input\")"
   ]
  },
  {
   "cell_type": "code",
   "execution_count": null,
   "id": "83f33778-a68c-4020-b0a5-3e7e38c23b59",
   "metadata": {},
   "outputs": [],
   "source": []
  }
 ],
 "metadata": {
  "kernelspec": {
   "display_name": "Python 3 (ipykernel)",
   "language": "python",
   "name": "python3"
  },
  "language_info": {
   "codemirror_mode": {
    "name": "ipython",
    "version": 3
   },
   "file_extension": ".py",
   "mimetype": "text/x-python",
   "name": "python",
   "nbconvert_exporter": "python",
   "pygments_lexer": "ipython3",
   "version": "3.12.4"
  }
 },
 "nbformat": 4,
 "nbformat_minor": 5
}
